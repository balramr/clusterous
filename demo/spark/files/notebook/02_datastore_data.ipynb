{
 "cells": [
  {
   "cell_type": "code",
   "execution_count": null,
   "metadata": {
    "collapsed": false
   },
   "outputs": [],
   "source": [
    "# NOTE: Update the config file first\n",
    "!cp config/bdkd_datastore.conf /root/.bdkd_datastore.conf"
   ]
  },
  {
   "cell_type": "code",
   "execution_count": null,
   "metadata": {
    "collapsed": true
   },
   "outputs": [],
   "source": [
    "import os\n",
    "import csv\n",
    "import time\n",
    "import wikipedia\n",
    "import yaml\n",
    "\n",
    "import datastorewrapper"
   ]
  },
  {
   "cell_type": "code",
   "execution_count": null,
   "metadata": {
    "collapsed": false
   },
   "outputs": [],
   "source": [
    "cities_file = 'data/country-capitals.csv'\n",
    "cities_folder = 'data/cities'\n",
    "results_file = 'data/results_word_count.csv'\n",
    "\n",
    "datastore_conf = yaml.load(open('/root/.bdkd_datastore.conf').read())\n",
    "access_key = datastore_conf.get('hosts',{}).get('s3-sydney',{}).get('access_key')\n",
    "secret_key = datastore_conf.get('hosts',{}).get('s3-sydney',{}).get('secret_key')\n",
    "\n",
    "ds_repo = 'bdkd-sirca-public'\n",
    "ds_dataset = 'cities'"
   ]
  },
  {
   "cell_type": "code",
   "execution_count": null,
   "metadata": {
    "collapsed": true
   },
   "outputs": [],
   "source": [
    "# Download cities info\n",
    "def download_cities(max_cities=3):\n",
    "    cities_downloaded = []\n",
    "    if not os.path.exists(cities_folder):\n",
    "        os.makedirs(cities_folder)\n",
    "    with open(cities_file, 'rb') as csvfile:\n",
    "        reader = csv.reader(csvfile)\n",
    "        for n, row in enumerate(reader):\n",
    "            if n == 0: #Skip header\n",
    "                continue \n",
    "\n",
    "            if n > max_cities: # Only n cities\n",
    "                break\n",
    "\n",
    "            city_name = row[1]\n",
    "            try:\n",
    "                wiki_content = wikipedia.page(city_name).content\n",
    "                file_name = 'city_{0:03}.txt'.format(n)\n",
    "                with open('{0}/{1}'.format(cities_folder, file_name), 'wb') as fw:\n",
    "                    fw.write(wiki_content.encode('utf8'))\n",
    "            except:\n",
    "                pass\n",
    "            cities_downloaded.append(city_name)\n",
    "\n",
    "            time.sleep(1) # Pause between each requtest\n",
    "\n",
    "    return cities_downloaded\n",
    "\n",
    "# Check if dataset exits\n",
    "def dataset_exists(ds_repo, ds_dataset):\n",
    "    datastore = datastorewrapper.Datastore()\n",
    "    repos = datastore.list(ds_repo)\n",
    "    return ds_dataset in repos\n",
    "\n",
    "# Create dataset\n",
    "def create_dataset():\n",
    "    result = True\n",
    "    if dataset_exists(ds_repo, ds_dataset):\n",
    "        datastore = datastorewrapper.Datastore()\n",
    "        result = datastore.delete(ds_repo, ds_dataset)\n",
    "        \n",
    "    datastore = datastorewrapper.Datastore()\n",
    "    result = datastore.create(ds_repo, ds_dataset)\n",
    "        \n",
    "    return result\n",
    "\n",
    "# Add files to dataset\n",
    "def add_files_to_dataset():\n",
    "    datastore = datastorewrapper.Datastore()\n",
    "    files = ['{0}/{1}'.format(cities_folder, i) for i in os.listdir(cities_folder)]\n",
    "    result = datastore.add_files(ds_repo, ds_dataset, files, overwrite = True)\n",
    "    return result\n",
    "\n",
    "# List files in dataset\n",
    "def list_files():\n",
    "    datastore = datastorewrapper.Datastore()\n",
    "    file_list = datastore.get_file_list(ds_repo, ds_dataset)\n",
    "    for i in file_list:\n",
    "        print i\n",
    "\n",
    "# Add results to dataset\n",
    "def add_results_to_dataset():\n",
    "    datastore = datastorewrapper.Datastore()\n",
    "    files = [results_file,]\n",
    "    result = datastore.add_files(ds_repo, ds_dataset, files)\n",
    "    return result\n"
   ]
  },
  {
   "cell_type": "code",
   "execution_count": null,
   "metadata": {
    "collapsed": false
   },
   "outputs": [],
   "source": [
    "download_cities()"
   ]
  },
  {
   "cell_type": "code",
   "execution_count": null,
   "metadata": {
    "collapsed": false
   },
   "outputs": [],
   "source": [
    "create_dataset()"
   ]
  },
  {
   "cell_type": "code",
   "execution_count": null,
   "metadata": {
    "collapsed": false
   },
   "outputs": [],
   "source": [
    "add_files_to_dataset()"
   ]
  },
  {
   "cell_type": "code",
   "execution_count": null,
   "metadata": {
    "collapsed": false
   },
   "outputs": [],
   "source": [
    "list_files()"
   ]
  },
  {
   "cell_type": "code",
   "execution_count": null,
   "metadata": {
    "collapsed": true
   },
   "outputs": [],
   "source": [
    "# Process data: run '03_process_data.ipynb'"
   ]
  },
  {
   "cell_type": "code",
   "execution_count": null,
   "metadata": {
    "collapsed": false
   },
   "outputs": [],
   "source": [
    "add_results_to_dataset()"
   ]
  },
  {
   "cell_type": "code",
   "execution_count": null,
   "metadata": {
    "collapsed": false
   },
   "outputs": [],
   "source": [
    "list_files()"
   ]
  },
  {
   "cell_type": "code",
   "execution_count": null,
   "metadata": {
    "collapsed": true
   },
   "outputs": [],
   "source": []
  }
 ],
 "metadata": {
  "kernelspec": {
   "display_name": "Python 2",
   "language": "python",
   "name": "python2"
  },
  "language_info": {
   "codemirror_mode": {
    "name": "ipython",
    "version": 2
   },
   "file_extension": ".py",
   "mimetype": "text/x-python",
   "name": "python",
   "nbconvert_exporter": "python",
   "pygments_lexer": "ipython2",
   "version": "2.7.6"
  }
 },
 "nbformat": 4,
 "nbformat_minor": 0
}
