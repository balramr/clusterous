{
 "cells": [
  {
   "cell_type": "code",
   "execution_count": null,
   "metadata": {
    "collapsed": false
   },
   "outputs": [],
   "source": [
    "import yaml\n",
    "import pyspark\n",
    "from operator import add\n",
    "\n",
    "conf = pyspark.SparkConf()\n",
    "conf.setMaster(\"mesos://controller:5050\")\n",
    "conf.set(\"spark.mesos.executor.docker.image\",\"registry:5000/bdkd:spark_mesos_v11\")\n",
    "conf.set(\"spark.mesos.executor.home\",\"/opt/spark-1.4.0-bin-hadoop2.4\")\n",
    "conf.set(\"spark.executorEnv.MESOS_NATIVE_JAVA_LIBRARY\",\"/usr/local/lib/libmesos.so\")\n",
    "sc = pyspark.SparkContext(conf=conf)"
   ]
  },
  {
   "cell_type": "code",
   "execution_count": null,
   "metadata": {
    "collapsed": true
   },
   "outputs": [],
   "source": [
    "datastore_conf = yaml.load(open('/root/.bdkd_datastore.conf').read())\n",
    "access_key = datastore_conf.get('hosts',{}).get('s3-sydney',{}).get('access_key')\n",
    "secret_key = datastore_conf.get('hosts',{}).get('s3-sydney',{}).get('secret_key')\n",
    "\n",
    "ds_repo = 'bdkd-sirca-public'\n",
    "ds_dataset = 'cities'\n",
    "\n",
    "results_file = 'data/results_word_count.csv'"
   ]
  },
  {
   "cell_type": "code",
   "execution_count": null,
   "metadata": {
    "collapsed": true
   },
   "outputs": [],
   "source": [
    "# Parallel processing\n",
    "def word_count():\n",
    "    s3_files = 's3n://{0}:{1}@{2}/files/{3}/*.txt'.format(access_key, secret_key, ds_repo, ds_dataset)\n",
    "    files_rdd = sc.textFile(s3_files)\n",
    "    word_count = files_rdd.flatMap(lambda x: x.split(' ')).map(lambda x: (x, 1)).reduceByKey(add).\\\n",
    "                           map(lambda x: (x[1], x[0])).sortByKey(False)\n",
    "    results = word_count.collect()\n",
    "    with open(results_file, 'wb') as fw:\n",
    "        for n, row in enumerate(results):\n",
    "            if n > 10: # Show only top x\n",
    "                break\n",
    "\n",
    "        line = '{0},{1},{2}\\n'.format(n, row[0], row[1])\n",
    "        fw.write(line)\n",
    "\n",
    "    return results_file\n"
   ]
  },
  {
   "cell_type": "code",
   "execution_count": null,
   "metadata": {
    "collapsed": false
   },
   "outputs": [],
   "source": [
    "results = word_count()\n",
    "print 'Results file:', results"
   ]
  },
  {
   "cell_type": "code",
   "execution_count": null,
   "metadata": {
    "collapsed": true
   },
   "outputs": [],
   "source": [
    "sc.stop()"
   ]
  },
  {
   "cell_type": "code",
   "execution_count": null,
   "metadata": {
    "collapsed": true
   },
   "outputs": [],
   "source": []
  }
 ],
 "metadata": {
  "kernelspec": {
   "display_name": "Python 2",
   "language": "python",
   "name": "python2"
  },
  "language_info": {
   "codemirror_mode": {
    "name": "ipython",
    "version": 2
   },
   "file_extension": ".py",
   "mimetype": "text/x-python",
   "name": "python",
   "nbconvert_exporter": "python",
   "pygments_lexer": "ipython2",
   "version": "2.7.6"
  }
 },
 "nbformat": 4,
 "nbformat_minor": 0
}
