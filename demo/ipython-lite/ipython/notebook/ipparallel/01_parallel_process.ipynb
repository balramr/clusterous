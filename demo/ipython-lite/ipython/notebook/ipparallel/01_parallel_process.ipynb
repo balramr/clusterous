{
 "cells": [
  {
   "cell_type": "markdown",
   "metadata": {},
   "source": [
    "## IPython Parallel - Simple Test"
   ]
  },
  {
   "cell_type": "markdown",
   "metadata": {},
   "source": [
    "### Show the number of process available across all nodes"
   ]
  },
  {
   "cell_type": "code",
   "execution_count": null,
   "metadata": {
    "collapsed": false
   },
   "outputs": [],
   "source": [
    "from ipyparallel import Client\n",
    "\n",
    "# IPython Parallel profile\n",
    "profile_dir = \"/home/data/ipython/profile\"\n",
    "rc = Client(profile_dir=profile_dir)\n",
    "\n",
    "print \"Available Processes: {0}\".format(len(rc.ids))\n"
   ]
  },
  {
   "cell_type": "markdown",
   "metadata": {},
   "source": [
    "### Show the Process ID (PID) of each process across all nodes"
   ]
  },
  {
   "cell_type": "code",
   "execution_count": null,
   "metadata": {
    "collapsed": false
   },
   "outputs": [],
   "source": [
    "dview = rc.direct_view()\n",
    "with dview.sync_imports():\n",
    "    import os\n",
    "    \n",
    "    dview.block=True\n",
    "    pids = dview.apply(os.getpid)\n",
    "    dview.block=False\n",
    "    ar = dview.apply(os.getpid)\n",
    "    dview.wait(ar)\n",
    "    pids = ar.get()\n",
    "    print ''\n",
    "    print 'PID of each process',pids"
   ]
  },
  {
   "cell_type": "code",
   "execution_count": null,
   "metadata": {
    "collapsed": true
   },
   "outputs": [],
   "source": []
  }
 ],
 "metadata": {
  "kernelspec": {
   "display_name": "Python 2",
   "language": "python",
   "name": "python2"
  },
  "language_info": {
   "codemirror_mode": {
    "name": "ipython",
    "version": 2
   },
   "file_extension": ".py",
   "mimetype": "text/x-python",
   "name": "python",
   "nbconvert_exporter": "python",
   "pygments_lexer": "ipython2",
   "version": "2.7.6"
  }
 },
 "nbformat": 4,
 "nbformat_minor": 0
}
