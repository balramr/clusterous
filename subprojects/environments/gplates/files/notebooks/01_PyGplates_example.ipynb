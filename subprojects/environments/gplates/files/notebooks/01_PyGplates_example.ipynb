{
 "cells": [
  {
   "cell_type": "markdown",
   "metadata": {},
   "source": [
    "# GPlates Example"
   ]
  },
  {
   "cell_type": "markdown",
   "metadata": {},
   "source": [
    "### Python libraries (PyGplates, Datastore wrapper, ..)"
   ]
  },
  {
   "cell_type": "code",
   "execution_count": null,
   "metadata": {
    "collapsed": false
   },
   "outputs": [],
   "source": [
    "import matplotlib.pyplot as plt\n",
    "import numpy as np\n",
    "from mpl_toolkits.basemap import Basemap\n",
    "from matplotlib.patches import Polygon\n",
    "import pygplates\n",
    "import datastorewrapper\n",
    "%matplotlib inline"
   ]
  },
  {
   "cell_type": "markdown",
   "metadata": {},
   "source": [
    "### Download data from datastore"
   ]
  },
  {
   "cell_type": "code",
   "execution_count": null,
   "metadata": {
    "collapsed": false
   },
   "outputs": [],
   "source": [
    "# Note: Update AWS keys on 'tmp/bdkd_datastore.conf'\n",
    "!cp tmp/bdkd_datastore.conf /root/.bdkd_datastore.conf"
   ]
  },
  {
   "cell_type": "code",
   "execution_count": null,
   "metadata": {
    "collapsed": false
   },
   "outputs": [],
   "source": [
    "repository='bdkd-sirca-public'\n",
    "dataset='coastlines'\n",
    "datastore = datastorewrapper.Datastore()\n",
    "repos = datastore.list(repository)\n",
    "files = datastore.files(repository, dataset)\n",
    "files_folder = '/'.join(files[0].split('/')[:-1])"
   ]
  },
  {
   "cell_type": "markdown",
   "metadata": {},
   "source": [
    "### Reconstructing map using PyGplates"
   ]
  },
  {
   "cell_type": "code",
   "execution_count": null,
   "metadata": {
    "collapsed": true
   },
   "outputs": [],
   "source": [
    "PathToSampleData = '{0}/'.format(files_folder)\n",
    "input_feature_filename = [PathToSampleData+'Coastlines/Seton_etal_ESR2012_Coastlines_2012.1_Polygon.gpmlz']\n",
    "input_rotation_filename = [PathToSampleData+'Rotations/Seton_etal_ESR2012_2012.1.rot']\n",
    "output_reconstructed_feature_filename = 'tmp.shp'\n",
    "reconstruction_time = 120.6\n",
    "anchor_plate = 0\n",
    "pygplates.reconstruct(input_feature_filename, \n",
    "                      input_rotation_filename, \n",
    "                      reconstruction_time,\n",
    "                      anchor_plate,\n",
    "                      output_reconstructed_feature_filename)"
   ]
  },
  {
   "cell_type": "markdown",
   "metadata": {},
   "source": [
    "### Plotting map"
   ]
  },
  {
   "cell_type": "code",
   "execution_count": null,
   "metadata": {
    "collapsed": false
   },
   "outputs": [],
   "source": [
    "fig = plt.figure(figsize=(14,10))\n",
    "ax_map = fig.add_axes([0,0,0.9,1.0])\n",
    "m = Basemap(projection='robin', lon_0=0, resolution='c', ax=ax_map)\n",
    "\n",
    "shp_info = m.readshapefile('tmp','shp',drawbounds=True,color='w')\n",
    "    \n",
    "for nshape,seg in enumerate(m.shp):\n",
    "    poly = Polygon(seg,facecolor='blue',edgecolor='k',alpha=0.7)\n",
    "    ax_map.add_patch(poly)\n",
    " \n",
    "plt.show()"
   ]
  },
  {
   "cell_type": "code",
   "execution_count": null,
   "metadata": {
    "collapsed": true
   },
   "outputs": [],
   "source": []
  }
 ],
 "metadata": {
  "kernelspec": {
   "display_name": "Python 2",
   "language": "python",
   "name": "python2"
  },
  "language_info": {
   "codemirror_mode": {
    "name": "ipython",
    "version": 2
   },
   "file_extension": ".py",
   "mimetype": "text/x-python",
   "name": "python",
   "nbconvert_exporter": "python",
   "pygments_lexer": "ipython2",
   "version": "2.7.6"
  }
 },
 "nbformat": 4,
 "nbformat_minor": 0
}
