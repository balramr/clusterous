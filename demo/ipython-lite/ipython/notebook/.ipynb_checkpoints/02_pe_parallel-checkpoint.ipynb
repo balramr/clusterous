{
 "cells": [
  {
   "cell_type": "code",
   "execution_count": null,
   "metadata": {
    "collapsed": true
   },
   "outputs": [],
   "source": [
    "import os, csv, datetime\n",
    "import numpy as np\n",
    "from IPython.parallel import Client"
   ]
  },
  {
   "cell_type": "code",
   "execution_count": null,
   "metadata": {
    "collapsed": true
   },
   "outputs": [],
   "source": [
    "# Code to run in parallel\n",
    "def pe(filename):\n",
    "    import numpy as np\n",
    "    import csv, os, socket\n",
    "    with open(filename) as csvfile:\n",
    "        readcsv = csv.reader(csvfile, delimiter=\",\")\n",
    "        data = []\n",
    "        xint = []\n",
    "        for row in readcsv:\n",
    "            amp = row[0]\n",
    "            data.append(float(amp))\n",
    "    TS = np.array(data)\n",
    "\n",
    "    perms = dict()\n",
    "    m=5\n",
    "    t=2\n",
    "    for a in range(len(TS) - t*(m-1)):\n",
    "        v = tuple(np.argsort(TS[a:(a + t*(m-1) + 1):t]))\n",
    "        if v in perms:\n",
    "            perms[v] += 1\n",
    "        else:\n",
    "            perms[v] = 1\n",
    "\n",
    "    c = np.array(list(perms.values()))\n",
    "    p = c / float(np.sum(c))\n",
    "    pe = -np.sum(np.dot(p, np.log(p)))\n",
    "    pe = pe / np.log(np.math.factorial(m))\n",
    "    with open(\"/home/data/laser/pe.log\",\"a\") as fw:\n",
    "        fw.writelines(\"{0},{1},{2},{3}\\n\".format(socket.gethostname(), os.getpid(), filename, pe))\n",
    "    return pe\n"
   ]
  },
  {
   "cell_type": "code",
   "execution_count": null,
   "metadata": {
    "collapsed": true
   },
   "outputs": [],
   "source": [
    "# Code that distribute jobs\n",
    "def main():\n",
    "    profile_dir = \"/home/data/ipython\"\n",
    "    results_file = \"/home/data/laser/pe_results.csv\"\n",
    "    logs_file = \"/home/data/laser/pe.log\"\n",
    "\n",
    "    # Reset logs\n",
    "    with open(logs_file,\"w\") as fw:\n",
    "        fw.writelines(\"host_name,process_id,file_name,pe_result\\n\")\n",
    "\n",
    "    # Parallel balanced\n",
    "    rc = Client(profile_dir=profile_dir)\n",
    "    lview = rc.load_balanced_view()\n",
    "\n",
    "    t1 = datetime.datetime.now()\n",
    "    FB = np.arange(0., 351.)\n",
    "    INJ = np.arange(0., 251.)\n",
    "\n",
    "    list_pe = []\n",
    "    files = []\n",
    "    for aa in FB:\n",
    "        for bb in INJ:\n",
    "            filename = \"/home/data/laser/ts/FB_%03d_INJ_%03d.csv\" % (FB[aa], INJ[bb])\n",
    "            if not os.path.exists(filename):\n",
    "                continue\n",
    "            files.append(filename)\n",
    "\n",
    "    r = lview.map_async(pe, files)\n",
    "    list_pe = r.get()\n",
    "\n",
    "    t2 = datetime.datetime.now()\n",
    "    print \"Time : %s \" % (t2-t1)\n",
    "    print \"Parallel process: {0}\".format(len(rc.ids))\n",
    "    print \"Files processed: {0} \".format(len(list_pe))\n",
    "    print \"\"\n",
    "    \n",
    "    # Save results to csv file\n",
    "    with open(results_file, \"w\") as fw:\n",
    "        fw.writelines((\"pe\\n\"))\n",
    "        for line in list_pe:\n",
    "            fw.writelines(\"{0}\\n\".format(line))\n",
    "    print \"Results save to:\", results_file\n",
    "    print \"Logs save to:\", logs_file\n",
    "    print \"Results sample: \", list_pe[:10], \"...\"\n"
   ]
  },
  {
   "cell_type": "code",
   "execution_count": null,
   "metadata": {
    "collapsed": true
   },
   "outputs": [],
   "source": [
    "# Run code\n",
    "main()"
   ]
  },
  {
   "cell_type": "code",
   "execution_count": null,
   "metadata": {
    "collapsed": true
   },
   "outputs": [],
   "source": [
    "# Check logs\n",
    "logs_file = \"/home/data/laser/pe.log\"\n",
    "fr = open(logs_file,\"rb\")\n",
    "for line in fr:\n",
    "    print line,"
   ]
  },
  {
   "cell_type": "code",
   "execution_count": null,
   "metadata": {
    "collapsed": false
   },
   "outputs": [],
   "source": []
  }
 ],
 "metadata": {
  "kernelspec": {
   "display_name": "Python 2",
   "language": "python",
   "name": "python2"
  },
  "language_info": {
   "codemirror_mode": {
    "name": "ipython",
    "version": 2
   },
   "file_extension": ".py",
   "mimetype": "text/x-python",
   "name": "python",
   "nbconvert_exporter": "python",
   "pygments_lexer": "ipython2",
   "version": "2.7.6"
  }
 },
 "nbformat": 4,
 "nbformat_minor": 0
}
